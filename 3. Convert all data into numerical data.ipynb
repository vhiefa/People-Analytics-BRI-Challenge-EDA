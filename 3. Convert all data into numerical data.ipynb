{
 "cells": [
  {
   "cell_type": "code",
   "execution_count": 1,
   "metadata": {},
   "outputs": [],
   "source": [
    "import tensorflow as tf\n",
    "import pandas as pd\n",
    "import numpy as np\n",
    "import seaborn as sns\n",
    "from numpy import nan\n",
    "\n",
    "import matplotlib.pyplot as plt"
   ]
  },
  {
   "cell_type": "code",
   "execution_count": 2,
   "metadata": {},
   "outputs": [],
   "source": [
    "df_train = pd.read_csv('./2.balance_train.csv')\n",
    "df_test = pd.read_csv('./0.test.csv')"
   ]
  },
  {
   "cell_type": "code",
   "execution_count": 3,
   "metadata": {},
   "outputs": [
    {
     "name": "stdout",
     "output_type": "stream",
     "text": [
      "(19337, 22)\n",
      "(6000, 21)\n"
     ]
    }
   ],
   "source": [
    "print(df_train.shape)\n",
    "print(df_test.shape)"
   ]
  },
  {
   "cell_type": "code",
   "execution_count": 4,
   "metadata": {},
   "outputs": [
    {
     "data": {
      "text/plain": [
       "job_level                                 object\n",
       "job_duration_in_current_job_level        float64\n",
       "person_level                              object\n",
       "job_duration_in_current_person_level     float64\n",
       "job_duration_in_current_branch           float64\n",
       "Employee_type                             object\n",
       "gender                                     int64\n",
       "age                                        int64\n",
       "marital_status_maried(Y/N)                object\n",
       "number_of_dependences                      int64\n",
       "Education_level                           object\n",
       "GPA                                      float64\n",
       "year_graduated                             int64\n",
       "job_duration_from_training                 int64\n",
       "branch_rotation                            int64\n",
       "job_rotation                               int64\n",
       "assign_of_otherposition                    int64\n",
       "annual leave                               int64\n",
       "sick_leaves                                int64\n",
       "Last_achievement_%                       float64\n",
       "Achievement_above_100%_during3quartal    float64\n",
       "Best Performance                           int64\n",
       "dtype: object"
      ]
     },
     "execution_count": 4,
     "metadata": {},
     "output_type": "execute_result"
    }
   ],
   "source": [
    "df_train.dtypes"
   ]
  },
  {
   "cell_type": "markdown",
   "metadata": {},
   "source": [
    "There are 21 attributes with different types of value such as int, float, and object. \n",
    "We only convert the object type to int types."
   ]
  },
  {
   "cell_type": "markdown",
   "metadata": {},
   "source": [
    "# job_level                                 "
   ]
  },
  {
   "cell_type": "code",
   "execution_count": 5,
   "metadata": {},
   "outputs": [
    {
     "name": "stdout",
     "output_type": "stream",
     "text": [
      "['JG05' 'JG04' 'JG03']\n",
      "['JG04' 'JG05' 'JG03' 'JG06']\n"
     ]
    }
   ],
   "source": [
    "print(df_train['job_level'].unique())\n",
    "print(df_test['job_level'].unique())"
   ]
  },
  {
   "cell_type": "code",
   "execution_count": 6,
   "metadata": {},
   "outputs": [
    {
     "name": "stdout",
     "output_type": "stream",
     "text": [
      "[5 4 3]\n",
      "[4 5 3 6]\n"
     ]
    }
   ],
   "source": [
    "df_train['job_level'] = df_train['job_level'].replace(\"JG05\", 5)\n",
    "df_train['job_level'] = df_train['job_level'].replace(\"JG04\", 4)\n",
    "df_train['job_level'] = df_train['job_level'].replace(\"JG03\", 3)\n",
    "df_train['job_level'] = df_train['job_level'].replace(\"JG06\", 6)\n",
    "\n",
    "df_test['job_level'] = df_test['job_level'].replace(\"JG04\", 4)\n",
    "df_test['job_level'] = df_test['job_level'].replace(\"JG03\", 3)\n",
    "df_test['job_level'] = df_test['job_level'].replace(\"JG05\", 5)\n",
    "df_test['job_level'] = df_test['job_level'].replace(\"JG06\", 6)\n",
    "\n",
    "print(df_train['job_level'].unique())\n",
    "print(df_test['job_level'].unique())"
   ]
  },
  {
   "cell_type": "markdown",
   "metadata": {},
   "source": [
    "# person_level                              "
   ]
  },
  {
   "cell_type": "code",
   "execution_count": 7,
   "metadata": {},
   "outputs": [
    {
     "name": "stdout",
     "output_type": "stream",
     "text": [
      "['PG06' 'PG03' 'PG04' 'PG02' 'PG05' 'PG01' 'PG08' 'PG07']\n",
      "['PG03' 'PG04' 'PG06' 'PG07' 'PG05' 'PG01' 'PG02']\n"
     ]
    }
   ],
   "source": [
    "print(df_train['person_level'].unique())\n",
    "print(df_test['person_level'].unique())"
   ]
  },
  {
   "cell_type": "code",
   "execution_count": 8,
   "metadata": {},
   "outputs": [
    {
     "name": "stdout",
     "output_type": "stream",
     "text": [
      "[6 3 4 2 5 1 8 7]\n",
      "[3 4 6 7 5 1 2]\n"
     ]
    }
   ],
   "source": [
    "for i in range(8):\n",
    "    temp='PG0'+str(i+1)\n",
    "    df_train['person_level'] = df_train['person_level'].replace(temp, (i+1))\n",
    "    df_test['person_level'] = df_test['person_level'].replace(temp, (i+1))\n",
    "    \n",
    "print(df_train['person_level'].unique())\n",
    "print(df_test['person_level'].unique())"
   ]
  },
  {
   "cell_type": "markdown",
   "metadata": {},
   "source": [
    "# Employee_type                             "
   ]
  },
  {
   "cell_type": "code",
   "execution_count": 9,
   "metadata": {},
   "outputs": [
    {
     "name": "stdout",
     "output_type": "stream",
     "text": [
      "['RM_type_A' 'RM_type_B' 'RM_type_C']\n",
      "['RM_type_A' 'RM_type_B' 'RM_type_C']\n"
     ]
    }
   ],
   "source": [
    "print(df_train['Employee_type'].unique())\n",
    "print(df_test['Employee_type'].unique())"
   ]
  },
  {
   "cell_type": "code",
   "execution_count": 10,
   "metadata": {},
   "outputs": [
    {
     "name": "stdout",
     "output_type": "stream",
     "text": [
      "[1 2 3]\n",
      "[1 2 3]\n"
     ]
    }
   ],
   "source": [
    "df_train['Employee_type'] = df_train['Employee_type'].replace(\"RM_type_A\", 1)\n",
    "df_train['Employee_type'] = df_train['Employee_type'].replace(\"RM_type_B\", 2)\n",
    "df_train['Employee_type'] = df_train['Employee_type'].replace(\"RM_type_C\", 3)\n",
    "\n",
    "df_test['Employee_type'] = df_test['Employee_type'].replace(\"RM_type_A\", 1)\n",
    "df_test['Employee_type'] = df_test['Employee_type'].replace(\"RM_type_B\", 2)\n",
    "df_test['Employee_type'] = df_test['Employee_type'].replace(\"RM_type_C\", 3)\n",
    "\n",
    "print(df_train['Employee_type'].unique())\n",
    "print(df_test['Employee_type'].unique())"
   ]
  },
  {
   "cell_type": "code",
   "execution_count": 13,
   "metadata": {},
   "outputs": [
    {
     "name": "stdout",
     "output_type": "stream",
     "text": [
      "[2 1]\n",
      "[1 2]\n"
     ]
    }
   ],
   "source": [
    "df_train['gender'] = df_train['gender'].replace(\"Male\", 1)\n",
    "df_train['gender'] = df_train['gender'].replace(\"Female\", 0)\n",
    "\n",
    "df_test['gender'] = df_test['gender'].replace(\"Male\", 1)\n",
    "df_test['gender'] = df_test['gender'].replace(\"Female\", 0)\n",
    "\n",
    "print(df_train['gender'].unique())\n",
    "print(df_test['gender'].unique())"
   ]
  },
  {
   "cell_type": "markdown",
   "metadata": {},
   "source": [
    "# marital_status_maried(Y/N)"
   ]
  },
  {
   "cell_type": "code",
   "execution_count": 14,
   "metadata": {},
   "outputs": [
    {
     "name": "stdout",
     "output_type": "stream",
     "text": [
      "['Y' 'N']\n",
      "['N' 'Y']\n"
     ]
    }
   ],
   "source": [
    "print(df_train['marital_status_maried(Y/N)'].unique())\n",
    "print(df_test['marital_status_maried(Y/N)'].unique())"
   ]
  },
  {
   "cell_type": "code",
   "execution_count": 15,
   "metadata": {},
   "outputs": [
    {
     "name": "stdout",
     "output_type": "stream",
     "text": [
      "[1 0]\n",
      "[0 1]\n"
     ]
    }
   ],
   "source": [
    "df_train['marital_status_maried(Y/N)'] = df_train['marital_status_maried(Y/N)'].replace(\"Y\", 1)\n",
    "df_train['marital_status_maried(Y/N)'] = df_train['marital_status_maried(Y/N)'].replace(\"N\", 0)\n",
    "\n",
    "df_test['marital_status_maried(Y/N)'] = df_test['marital_status_maried(Y/N)'].replace(\"Y\", 1)\n",
    "df_test['marital_status_maried(Y/N)'] = df_test['marital_status_maried(Y/N)'].replace(\"N\", 0)\n",
    "\n",
    "print(df_train['marital_status_maried(Y/N)'].unique())\n",
    "print(df_test['marital_status_maried(Y/N)'].unique())"
   ]
  },
  {
   "cell_type": "markdown",
   "metadata": {},
   "source": [
    "# Education_level                           "
   ]
  },
  {
   "cell_type": "code",
   "execution_count": 16,
   "metadata": {},
   "outputs": [
    {
     "name": "stdout",
     "output_type": "stream",
     "text": [
      "['level_1' 'level_3' 'level_4' 'level_5' 'level_0' 'level_2']\n",
      "['level_3' 'level_4' 'level_1' 'level_5' 'level_0' 'level_2']\n"
     ]
    }
   ],
   "source": [
    "print(df_train['Education_level'].unique())\n",
    "print(df_test['Education_level'].unique())"
   ]
  },
  {
   "cell_type": "code",
   "execution_count": 17,
   "metadata": {},
   "outputs": [],
   "source": [
    "def convert_edu_level(x):\n",
    "    try:\n",
    "        if x==\"level_0\":\n",
    "            return 0\n",
    "        elif x==\"level_1\":\n",
    "            return 1\n",
    "        elif x==\"level_2\":\n",
    "            return 2\n",
    "        elif x==\"level_3\":\n",
    "            return 3\n",
    "        elif x==\"level_4\":\n",
    "            return 4\n",
    "        elif x==\"level_5\":\n",
    "            return 5\n",
    "    except:\n",
    "        return nan"
   ]
  },
  {
   "cell_type": "code",
   "execution_count": 18,
   "metadata": {},
   "outputs": [
    {
     "name": "stdout",
     "output_type": "stream",
     "text": [
      "[1 3 4 5 0 2]\n",
      "[3 4 1 5 0 2]\n"
     ]
    }
   ],
   "source": [
    "df_train['Education_level'] = df_train['Education_level'].apply(convert_edu_level)\n",
    "df_test['Education_level'] = df_test['Education_level'].apply(convert_edu_level)\n",
    "\n",
    "print(df_train['Education_level'].unique())\n",
    "print(df_test['Education_level'].unique())"
   ]
  },
  {
   "cell_type": "markdown",
   "metadata": {},
   "source": [
    "# year_graduated                            "
   ]
  },
  {
   "cell_type": "code",
   "execution_count": 19,
   "metadata": {},
   "outputs": [
    {
     "name": "stdout",
     "output_type": "stream",
     "text": [
      "[1987 2009 1988 2007 2004 1985 2013 1993 2006 1984 1989 1986 2011 2010\n",
      " 1994 1991 1992 2018 2014 2008 2001 2002 2017 2012 2005 2015 1996 2003\n",
      " 1995 1990 2000 1998 1999 2016 1997 2019 1983 1982]\n",
      "[2009 2014 2011 2007 2004 2012 2015 2008 2010 2017 2002 2013 2006 2005\n",
      " 2003 1986 2001 2016 1993 1995 1994 1999 2000 1990 1996 1992 1988 1998\n",
      " 1989 2018 1987 1997 1991 2020 1984 2019 1985]\n"
     ]
    }
   ],
   "source": [
    "print(df_train['year_graduated'].unique())\n",
    "print(df_test['year_graduated'].unique())"
   ]
  },
  {
   "cell_type": "code",
   "execution_count": 20,
   "metadata": {},
   "outputs": [],
   "source": [
    "def filter_year(x):\n",
    "    try:\n",
    "        x = int(x)\n",
    "        if x > 2021:\n",
    "            return nan #make invalid data into nan/empty instead\n",
    "        elif x < 1945:\n",
    "            return nan #make invalid data into nan/empty instead\n",
    "        elif x > 1945 and x<=2021:\n",
    "            return 2021 - int(x)\n",
    "    except:\n",
    "        return nan"
   ]
  },
  {
   "cell_type": "code",
   "execution_count": 21,
   "metadata": {},
   "outputs": [
    {
     "name": "stdout",
     "output_type": "stream",
     "text": [
      "[34 12 33 14 17 36  8 28 15 37 32 35 10 11 27 30 29  3  7 13 20 19  4  9\n",
      " 16  6 25 18 26 31 21 23 22  5 24  2 38 39]\n",
      "[12  7 10 14 17  9  6 13 11  4 19  8 15 16 18 35 20  5 28 26 27 22 21 31\n",
      " 25 29 33 23 32  3 34 24 30  1 37  2 36]\n"
     ]
    }
   ],
   "source": [
    "df_train['year_graduated'] = df_train['year_graduated'].apply(filter_year)\n",
    "df_test['year_graduated'] = df_test['year_graduated'].apply(filter_year)\n",
    "\n",
    "print(df_train['year_graduated'].unique())\n",
    "print(df_test['year_graduated'].unique())"
   ]
  },
  {
   "cell_type": "markdown",
   "metadata": {},
   "source": [
    "# age"
   ]
  },
  {
   "cell_type": "code",
   "execution_count": 25,
   "metadata": {},
   "outputs": [
    {
     "name": "stdout",
     "output_type": "stream",
     "text": [
      "[1967 1991 1989 1986 1966 1974 1988 1968 1965 1969 1993 1976 1973 1963\n",
      " 1970 1971 1990 1987 1979 1985 1980 1992 1984 1994 1983 1981 1982 1964\n",
      " 1972 1977 1975 1978 1996 1995 1997]\n",
      "[1988 1991 1989 1990 1985 1982 1983 1993 1987 1992 1986 1978 1981 1972\n",
      " 1984 1980 1979 1974 1967 1975 1971 1976 1970 1964 1968 1963 1977 1973\n",
      " 1965 1969 1966 1994 1995]\n"
     ]
    }
   ],
   "source": [
    "print(df_train['age'].unique())\n",
    "print(df_test['age'].unique())"
   ]
  },
  {
   "cell_type": "code",
   "execution_count": 26,
   "metadata": {},
   "outputs": [],
   "source": [
    "def filter_age(x):\n",
    "    try:\n",
    "        x = int(x)\n",
    "        if x > 2004:\n",
    "            return nan #make invalid data into nan/empty instead\n",
    "        elif x < 1945:\n",
    "            return nan #make invalid data into nan/empty instead\n",
    "        elif x > 1945 and x<=2004:\n",
    "            return 2021 - int(x)\n",
    "    except:\n",
    "        return nan"
   ]
  },
  {
   "cell_type": "code",
   "execution_count": 27,
   "metadata": {},
   "outputs": [
    {
     "name": "stdout",
     "output_type": "stream",
     "text": [
      "[54 30 32 35 55 47 33 53 56 52 28 45 48 58 51 50 31 34 42 36 41 29 37 27\n",
      " 38 40 39 57 49 44 46 43 25 26 24]\n",
      "[33 30 32 31 36 39 38 28 34 29 35 43 40 49 37 41 42 47 54 46 50 45 51 57\n",
      " 53 58 44 48 56 52 55 27 26]\n"
     ]
    }
   ],
   "source": [
    "df_train['age'] = df_train['age'].apply(filter_age)\n",
    "df_test['age'] = df_test['age'].apply(filter_age)\n",
    "\n",
    "print(df_train['age'].unique())\n",
    "print(df_test['age'].unique())"
   ]
  },
  {
   "cell_type": "code",
   "execution_count": 28,
   "metadata": {},
   "outputs": [],
   "source": [
    "df_train.to_csv(\"3.num_train.csv\", index=False)\n",
    "df_test.to_csv(\"3.num_test.csv\", index=False)"
   ]
  },
  {
   "cell_type": "code",
   "execution_count": null,
   "metadata": {},
   "outputs": [],
   "source": []
  }
 ],
 "metadata": {
  "kernelspec": {
   "display_name": "Python 3",
   "language": "python",
   "name": "python3"
  },
  "language_info": {
   "codemirror_mode": {
    "name": "ipython",
    "version": 3
   },
   "file_extension": ".py",
   "mimetype": "text/x-python",
   "name": "python",
   "nbconvert_exporter": "python",
   "pygments_lexer": "ipython3",
   "version": "3.7.9"
  }
 },
 "nbformat": 4,
 "nbformat_minor": 4
}
