{
 "cells": [
  {
   "cell_type": "code",
   "execution_count": 1,
   "metadata": {},
   "outputs": [],
   "source": [
    "import tensorflow as tf\n",
    "import pandas as pd\n",
    "import numpy as np\n",
    "import seaborn as sns\n",
    "\n",
    "import matplotlib.pyplot as plt"
   ]
  },
  {
   "cell_type": "markdown",
   "metadata": {},
   "source": [
    "To deal with umbalance data, I performed undersampling and oversampling. I dropped some sample in negative class that has missing data or redundant data (undersampling). Then I replicate sample in positive class (oversampling). Thus, the amount of sample between positive and negative data is nearly the same."
   ]
  },
  {
   "cell_type": "code",
   "execution_count": 2,
   "metadata": {},
   "outputs": [],
   "source": [
    "df_train_pos = pd.read_csv('./1.train_positive.csv')\n",
    "df_train_neg = pd.read_csv('./1.train_negative.csv')"
   ]
  },
  {
   "cell_type": "code",
   "execution_count": 3,
   "metadata": {},
   "outputs": [
    {
     "name": "stdout",
     "output_type": "stream",
     "text": [
      "(1637, 22)\n",
      "(9516, 22)\n"
     ]
    }
   ],
   "source": [
    "print(df_train_pos.shape)\n",
    "print(df_train_neg.shape)"
   ]
  },
  {
   "cell_type": "markdown",
   "metadata": {},
   "source": [
    "# Check duplicate row from negative class and drop it"
   ]
  },
  {
   "cell_type": "code",
   "execution_count": 4,
   "metadata": {},
   "outputs": [
    {
     "name": "stdout",
     "output_type": "stream",
     "text": [
      "Duplicate Rows except first occurrence based on all columns are :\n",
      "Empty DataFrame\n",
      "Columns: [job_level, job_duration_in_current_job_level, person_level, job_duration_in_current_person_level, job_duration_in_current_branch, Employee_type, gender, age, marital_status_maried(Y/N), number_of_dependences, Education_level, GPA, year_graduated, job_duration_from_training, branch_rotation, job_rotation, assign_of_otherposition, annual leave, sick_leaves, Last_achievement_%, Achievement_above_100%_during3quartal, Best Performance]\n",
      "Index: []\n",
      "\n",
      "[0 rows x 22 columns]\n"
     ]
    }
   ],
   "source": [
    "# Select duplicate rows except first occurrence based on all columns\n",
    "duplicateRowsDF = df_train_pos[df_train_pos.duplicated()]\n",
    "print(\"Duplicate Rows except first occurrence based on all columns are :\")\n",
    "print(duplicateRowsDF)"
   ]
  },
  {
   "cell_type": "code",
   "execution_count": 5,
   "metadata": {},
   "outputs": [
    {
     "name": "stdout",
     "output_type": "stream",
     "text": [
      "Duplicate Rows except first occurrence based on all columns are :\n",
      "Empty DataFrame\n",
      "Columns: [job_level, job_duration_in_current_job_level, person_level, job_duration_in_current_person_level, job_duration_in_current_branch, Employee_type, gender, age, marital_status_maried(Y/N), number_of_dependences, Education_level, GPA, year_graduated, job_duration_from_training, branch_rotation, job_rotation, assign_of_otherposition, annual leave, sick_leaves, Last_achievement_%, Achievement_above_100%_during3quartal, Best Performance]\n",
      "Index: []\n",
      "\n",
      "[0 rows x 22 columns]\n"
     ]
    }
   ],
   "source": [
    "# Select duplicate rows except first occurrence based on all columns\n",
    "duplicateRowsDF = df_train_neg[df_train_neg.duplicated()]\n",
    "print(\"Duplicate Rows except first occurrence based on all columns are :\")\n",
    "print(duplicateRowsDF)"
   ]
  },
  {
   "cell_type": "code",
   "execution_count": 6,
   "metadata": {},
   "outputs": [
    {
     "name": "stdout",
     "output_type": "stream",
     "text": [
      "(9516, 22)\n"
     ]
    }
   ],
   "source": [
    "# df_train_neg.drop(df_train_neg.loc[df_train_neg['line_race']==0].index, inplace=True)\n",
    "# dropping duplicate values \n",
    "df_train_neg.drop_duplicates(keep=False,inplace=True) \n",
    "print(df_train_neg.shape)"
   ]
  },
  {
   "cell_type": "markdown",
   "metadata": {},
   "source": [
    "# Check missing row from negative class and drop it"
   ]
  },
  {
   "cell_type": "code",
   "execution_count": 7,
   "metadata": {},
   "outputs": [
    {
     "data": {
      "text/html": [
       "<style  type=\"text/css\" >\n",
       "#T_55c9c5f6_607a_11eb_923d_d45d64b17c42row0_col0,#T_55c9c5f6_607a_11eb_923d_d45d64b17c42row1_col0{\n",
       "            background-color:  #f7fbff;\n",
       "            color:  #000000;\n",
       "        }</style><table id=\"T_55c9c5f6_607a_11eb_923d_d45d64b17c42\" ><thead>    <tr>        <th class=\"blank level0\" ></th>        <th class=\"col_heading level0 col0\" >missing rows</th>    </tr></thead><tbody>\n",
       "                <tr>\n",
       "                        <th id=\"T_55c9c5f6_607a_11eb_923d_d45d64b17c42level0_row0\" class=\"row_heading level0 row0\" >Last_achievement_%</th>\n",
       "                        <td id=\"T_55c9c5f6_607a_11eb_923d_d45d64b17c42row0_col0\" class=\"data row0 col0\" >1</td>\n",
       "            </tr>\n",
       "            <tr>\n",
       "                        <th id=\"T_55c9c5f6_607a_11eb_923d_d45d64b17c42level0_row1\" class=\"row_heading level0 row1\" >Achievement_above_100%_during3quartal</th>\n",
       "                        <td id=\"T_55c9c5f6_607a_11eb_923d_d45d64b17c42row1_col0\" class=\"data row1 col0\" >1</td>\n",
       "            </tr>\n",
       "    </tbody></table>"
      ],
      "text/plain": [
       "<pandas.io.formats.style.Styler at 0x1b62435f688>"
      ]
     },
     "execution_count": 7,
     "metadata": {},
     "output_type": "execute_result"
    }
   ],
   "source": [
    "null_col = df_train_neg.columns[df_train_neg.isna().any()]\n",
    "null_df = df_train_neg[null_col].isna().sum().rename('missing rows').to_frame()\n",
    "# null_df['percentage'] = round(null_df['missing rows'] / df_train.shape[0] * 100, 3)\n",
    "# null_df['percentage'] = null_df['percentage'].astype('str')\n",
    "\n",
    "null_df.sort_values('missing rows', ascending=False).style.background_gradient('Blues')"
   ]
  },
  {
   "cell_type": "code",
   "execution_count": 8,
   "metadata": {},
   "outputs": [
    {
     "name": "stdout",
     "output_type": "stream",
     "text": [
      "(9516, 22)\n",
      "(9515, 22)\n"
     ]
    }
   ],
   "source": [
    "# Remove row having missing data\n",
    "\n",
    "print(df_train_neg.shape)\n",
    "\n",
    "# drop rows with missing values\n",
    "df_train_neg.dropna(inplace=True)\n",
    "\n",
    "print(df_train_neg.shape)"
   ]
  },
  {
   "cell_type": "markdown",
   "metadata": {},
   "source": [
    "# replicate row in positive class"
   ]
  },
  {
   "cell_type": "code",
   "execution_count": 9,
   "metadata": {},
   "outputs": [],
   "source": [
    "df_train_pos = pd.concat([df_train_pos]*6)"
   ]
  },
  {
   "cell_type": "code",
   "execution_count": 10,
   "metadata": {},
   "outputs": [
    {
     "name": "stdout",
     "output_type": "stream",
     "text": [
      "(9822, 22)\n"
     ]
    }
   ],
   "source": [
    "print(df_train_pos.shape)"
   ]
  },
  {
   "cell_type": "markdown",
   "metadata": {},
   "source": [
    "# Merge positive and negative data frame"
   ]
  },
  {
   "cell_type": "code",
   "execution_count": 11,
   "metadata": {},
   "outputs": [
    {
     "name": "stdout",
     "output_type": "stream",
     "text": [
      "(19337, 22)\n"
     ]
    }
   ],
   "source": [
    "new_df_train = pd.concat([df_train_pos,df_train_neg])\n",
    "print(new_df_train.shape)"
   ]
  },
  {
   "cell_type": "code",
   "execution_count": 12,
   "metadata": {},
   "outputs": [],
   "source": [
    "new_df_train.to_csv(\"2.balance_train.csv\", index=False)"
   ]
  },
  {
   "cell_type": "code",
   "execution_count": null,
   "metadata": {},
   "outputs": [],
   "source": []
  }
 ],
 "metadata": {
  "kernelspec": {
   "display_name": "Python 3",
   "language": "python",
   "name": "python3"
  },
  "language_info": {
   "codemirror_mode": {
    "name": "ipython",
    "version": 3
   },
   "file_extension": ".py",
   "mimetype": "text/x-python",
   "name": "python",
   "nbconvert_exporter": "python",
   "pygments_lexer": "ipython3",
   "version": "3.7.9"
  }
 },
 "nbformat": 4,
 "nbformat_minor": 4
}
