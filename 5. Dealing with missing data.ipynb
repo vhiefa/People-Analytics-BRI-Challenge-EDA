{
 "cells": [
  {
   "cell_type": "code",
   "execution_count": 1,
   "metadata": {},
   "outputs": [],
   "source": [
    "import tensorflow as tf\n",
    "import pandas as pd\n",
    "import numpy as np\n",
    "import seaborn as sns\n",
    "\n",
    "import matplotlib.pyplot as plt"
   ]
  },
  {
   "cell_type": "markdown",
   "metadata": {},
   "source": [
    "I transformed the missing data (nan) with mean (for real type data) and median (for integer type data)"
   ]
  },
  {
   "cell_type": "code",
   "execution_count": 2,
   "metadata": {},
   "outputs": [],
   "source": [
    "df_train = pd.read_csv('./4.train_without_outlier.csv')\n",
    "df_test = pd.read_csv('./4.test_without_outlier.csv')"
   ]
  },
  {
   "cell_type": "code",
   "execution_count": 3,
   "metadata": {},
   "outputs": [
    {
     "name": "stdout",
     "output_type": "stream",
     "text": [
      "(19337, 22)\n",
      "(6000, 21)\n"
     ]
    }
   ],
   "source": [
    "print(df_train.shape)\n",
    "print(df_test.shape)"
   ]
  },
  {
   "cell_type": "code",
   "execution_count": 4,
   "metadata": {},
   "outputs": [],
   "source": [
    "df_merge_data = pd.concat([df_train,df_test])"
   ]
  },
  {
   "cell_type": "code",
   "execution_count": 5,
   "metadata": {},
   "outputs": [
    {
     "data": {
      "text/plain": [
       "job_level                                  int64\n",
       "job_duration_in_current_job_level        float64\n",
       "person_level                               int64\n",
       "job_duration_in_current_person_level     float64\n",
       "job_duration_in_current_branch           float64\n",
       "Employee_type                              int64\n",
       "gender                                     int64\n",
       "age                                        int64\n",
       "marital_status_maried(Y/N)                 int64\n",
       "number_of_dependences                    float64\n",
       "Education_level                            int64\n",
       "GPA                                      float64\n",
       "year_graduated                             int64\n",
       "job_duration_from_training               float64\n",
       "branch_rotation                          float64\n",
       "job_rotation                             float64\n",
       "assign_of_otherposition                  float64\n",
       "annual leave                             float64\n",
       "sick_leaves                              float64\n",
       "Last_achievement_%                       float64\n",
       "Achievement_above_100%_during3quartal    float64\n",
       "Best Performance                         float64\n",
       "dtype: object"
      ]
     },
     "execution_count": 5,
     "metadata": {},
     "output_type": "execute_result"
    }
   ],
   "source": [
    "df_merge_data.dtypes"
   ]
  },
  {
   "cell_type": "code",
   "execution_count": 6,
   "metadata": {},
   "outputs": [
    {
     "data": {
      "text/html": [
       "<style  type=\"text/css\" >\n",
       "#T_24ad88f0_607c_11eb_8748_d45d64b17c42row0_col0{\n",
       "            background-color:  #08306b;\n",
       "            color:  #f1f1f1;\n",
       "        }#T_24ad88f0_607c_11eb_8748_d45d64b17c42row1_col0{\n",
       "            background-color:  #09529d;\n",
       "            color:  #f1f1f1;\n",
       "        }#T_24ad88f0_607c_11eb_8748_d45d64b17c42row2_col0{\n",
       "            background-color:  #125ea6;\n",
       "            color:  #f1f1f1;\n",
       "        }#T_24ad88f0_607c_11eb_8748_d45d64b17c42row3_col0{\n",
       "            background-color:  #1966ad;\n",
       "            color:  #f1f1f1;\n",
       "        }#T_24ad88f0_607c_11eb_8748_d45d64b17c42row4_col0{\n",
       "            background-color:  #4292c6;\n",
       "            color:  #000000;\n",
       "        }#T_24ad88f0_607c_11eb_8748_d45d64b17c42row5_col0{\n",
       "            background-color:  #4695c8;\n",
       "            color:  #000000;\n",
       "        }#T_24ad88f0_607c_11eb_8748_d45d64b17c42row6_col0{\n",
       "            background-color:  #4d99ca;\n",
       "            color:  #000000;\n",
       "        }#T_24ad88f0_607c_11eb_8748_d45d64b17c42row7_col0{\n",
       "            background-color:  #6fb0d7;\n",
       "            color:  #000000;\n",
       "        }#T_24ad88f0_607c_11eb_8748_d45d64b17c42row8_col0{\n",
       "            background-color:  #9ac8e0;\n",
       "            color:  #000000;\n",
       "        }#T_24ad88f0_607c_11eb_8748_d45d64b17c42row9_col0{\n",
       "            background-color:  #c7dcef;\n",
       "            color:  #000000;\n",
       "        }#T_24ad88f0_607c_11eb_8748_d45d64b17c42row10_col0{\n",
       "            background-color:  #dceaf6;\n",
       "            color:  #000000;\n",
       "        }#T_24ad88f0_607c_11eb_8748_d45d64b17c42row11_col0{\n",
       "            background-color:  #f2f8fd;\n",
       "            color:  #000000;\n",
       "        }#T_24ad88f0_607c_11eb_8748_d45d64b17c42row12_col0,#T_24ad88f0_607c_11eb_8748_d45d64b17c42row13_col0{\n",
       "            background-color:  #f7fbff;\n",
       "            color:  #000000;\n",
       "        }</style><table id=\"T_24ad88f0_607c_11eb_8748_d45d64b17c42\" ><thead>    <tr>        <th class=\"blank level0\" ></th>        <th class=\"col_heading level0 col0\" >missing rows</th>        <th class=\"col_heading level0 col1\" >percentage</th>    </tr></thead><tbody>\n",
       "                <tr>\n",
       "                        <th id=\"T_24ad88f0_607c_11eb_8748_d45d64b17c42level0_row0\" class=\"row_heading level0 row0\" >Best Performance</th>\n",
       "                        <td id=\"T_24ad88f0_607c_11eb_8748_d45d64b17c42row0_col0\" class=\"data row0 col0\" >6000</td>\n",
       "                        <td id=\"T_24ad88f0_607c_11eb_8748_d45d64b17c42row0_col1\" class=\"data row0 col1\" >23.681</td>\n",
       "            </tr>\n",
       "            <tr>\n",
       "                        <th id=\"T_24ad88f0_607c_11eb_8748_d45d64b17c42level0_row1\" class=\"row_heading level0 row1\" >GPA</th>\n",
       "                        <td id=\"T_24ad88f0_607c_11eb_8748_d45d64b17c42row1_col0\" class=\"data row1 col0\" >5223</td>\n",
       "                        <td id=\"T_24ad88f0_607c_11eb_8748_d45d64b17c42row1_col1\" class=\"data row1 col1\" >20.614</td>\n",
       "            </tr>\n",
       "            <tr>\n",
       "                        <th id=\"T_24ad88f0_607c_11eb_8748_d45d64b17c42level0_row2\" class=\"row_heading level0 row2\" >assign_of_otherposition</th>\n",
       "                        <td id=\"T_24ad88f0_607c_11eb_8748_d45d64b17c42row2_col0\" class=\"data row2 col0\" >4924</td>\n",
       "                        <td id=\"T_24ad88f0_607c_11eb_8748_d45d64b17c42row2_col1\" class=\"data row2 col1\" >19.434</td>\n",
       "            </tr>\n",
       "            <tr>\n",
       "                        <th id=\"T_24ad88f0_607c_11eb_8748_d45d64b17c42level0_row3\" class=\"row_heading level0 row3\" >Achievement_above_100%_during3quartal</th>\n",
       "                        <td id=\"T_24ad88f0_607c_11eb_8748_d45d64b17c42row3_col0\" class=\"data row3 col0\" >4736</td>\n",
       "                        <td id=\"T_24ad88f0_607c_11eb_8748_d45d64b17c42row3_col1\" class=\"data row3 col1\" >18.692</td>\n",
       "            </tr>\n",
       "            <tr>\n",
       "                        <th id=\"T_24ad88f0_607c_11eb_8748_d45d64b17c42level0_row4\" class=\"row_heading level0 row4\" >job_duration_in_current_person_level</th>\n",
       "                        <td id=\"T_24ad88f0_607c_11eb_8748_d45d64b17c42row4_col0\" class=\"data row4 col0\" >3736</td>\n",
       "                        <td id=\"T_24ad88f0_607c_11eb_8748_d45d64b17c42row4_col1\" class=\"data row4 col1\" >14.745</td>\n",
       "            </tr>\n",
       "            <tr>\n",
       "                        <th id=\"T_24ad88f0_607c_11eb_8748_d45d64b17c42level0_row5\" class=\"row_heading level0 row5\" >job_duration_in_current_job_level</th>\n",
       "                        <td id=\"T_24ad88f0_607c_11eb_8748_d45d64b17c42row5_col0\" class=\"data row5 col0\" >3676</td>\n",
       "                        <td id=\"T_24ad88f0_607c_11eb_8748_d45d64b17c42row5_col1\" class=\"data row5 col1\" >14.508</td>\n",
       "            </tr>\n",
       "            <tr>\n",
       "                        <th id=\"T_24ad88f0_607c_11eb_8748_d45d64b17c42level0_row6\" class=\"row_heading level0 row6\" >sick_leaves</th>\n",
       "                        <td id=\"T_24ad88f0_607c_11eb_8748_d45d64b17c42row6_col0\" class=\"data row6 col0\" >3552</td>\n",
       "                        <td id=\"T_24ad88f0_607c_11eb_8748_d45d64b17c42row6_col1\" class=\"data row6 col1\" >14.019</td>\n",
       "            </tr>\n",
       "            <tr>\n",
       "                        <th id=\"T_24ad88f0_607c_11eb_8748_d45d64b17c42level0_row7\" class=\"row_heading level0 row7\" >job_duration_from_training</th>\n",
       "                        <td id=\"T_24ad88f0_607c_11eb_8748_d45d64b17c42row7_col0\" class=\"data row7 col0\" >2945</td>\n",
       "                        <td id=\"T_24ad88f0_607c_11eb_8748_d45d64b17c42row7_col1\" class=\"data row7 col1\" >11.623</td>\n",
       "            </tr>\n",
       "            <tr>\n",
       "                        <th id=\"T_24ad88f0_607c_11eb_8748_d45d64b17c42level0_row8\" class=\"row_heading level0 row8\" >branch_rotation</th>\n",
       "                        <td id=\"T_24ad88f0_607c_11eb_8748_d45d64b17c42row8_col0\" class=\"data row8 col0\" >2312</td>\n",
       "                        <td id=\"T_24ad88f0_607c_11eb_8748_d45d64b17c42row8_col1\" class=\"data row8 col1\" >9.125</td>\n",
       "            </tr>\n",
       "            <tr>\n",
       "                        <th id=\"T_24ad88f0_607c_11eb_8748_d45d64b17c42level0_row9\" class=\"row_heading level0 row9\" >job_rotation</th>\n",
       "                        <td id=\"T_24ad88f0_607c_11eb_8748_d45d64b17c42row9_col0\" class=\"data row9 col0\" >1470</td>\n",
       "                        <td id=\"T_24ad88f0_607c_11eb_8748_d45d64b17c42row9_col1\" class=\"data row9 col1\" >5.802</td>\n",
       "            </tr>\n",
       "            <tr>\n",
       "                        <th id=\"T_24ad88f0_607c_11eb_8748_d45d64b17c42level0_row10\" class=\"row_heading level0 row10\" >annual leave</th>\n",
       "                        <td id=\"T_24ad88f0_607c_11eb_8748_d45d64b17c42row10_col0\" class=\"data row10 col0\" >807</td>\n",
       "                        <td id=\"T_24ad88f0_607c_11eb_8748_d45d64b17c42row10_col1\" class=\"data row10 col1\" >3.185</td>\n",
       "            </tr>\n",
       "            <tr>\n",
       "                        <th id=\"T_24ad88f0_607c_11eb_8748_d45d64b17c42level0_row11\" class=\"row_heading level0 row11\" >job_duration_in_current_branch</th>\n",
       "                        <td id=\"T_24ad88f0_607c_11eb_8748_d45d64b17c42row11_col0\" class=\"data row11 col0\" >150</td>\n",
       "                        <td id=\"T_24ad88f0_607c_11eb_8748_d45d64b17c42row11_col1\" class=\"data row11 col1\" >0.592</td>\n",
       "            </tr>\n",
       "            <tr>\n",
       "                        <th id=\"T_24ad88f0_607c_11eb_8748_d45d64b17c42level0_row12\" class=\"row_heading level0 row12\" >Last_achievement_%</th>\n",
       "                        <td id=\"T_24ad88f0_607c_11eb_8748_d45d64b17c42row12_col0\" class=\"data row12 col0\" >3</td>\n",
       "                        <td id=\"T_24ad88f0_607c_11eb_8748_d45d64b17c42row12_col1\" class=\"data row12 col1\" >0.012</td>\n",
       "            </tr>\n",
       "            <tr>\n",
       "                        <th id=\"T_24ad88f0_607c_11eb_8748_d45d64b17c42level0_row13\" class=\"row_heading level0 row13\" >number_of_dependences</th>\n",
       "                        <td id=\"T_24ad88f0_607c_11eb_8748_d45d64b17c42row13_col0\" class=\"data row13 col0\" >1</td>\n",
       "                        <td id=\"T_24ad88f0_607c_11eb_8748_d45d64b17c42row13_col1\" class=\"data row13 col1\" >0.004</td>\n",
       "            </tr>\n",
       "    </tbody></table>"
      ],
      "text/plain": [
       "<pandas.io.formats.style.Styler at 0x240a99d74c8>"
      ]
     },
     "execution_count": 6,
     "metadata": {},
     "output_type": "execute_result"
    }
   ],
   "source": [
    "null_col = df_merge_data.columns[df_merge_data.isna().any()]\n",
    "null_df = df_merge_data[null_col].isna().sum().rename('missing rows').to_frame()\n",
    "null_df['percentage'] = round(null_df['missing rows'] / df_merge_data.shape[0] * 100, 3)\n",
    "null_df['percentage'] = null_df['percentage'].astype('str')\n",
    "\n",
    "null_df.sort_values('missing rows', ascending=False).style.background_gradient('Blues')"
   ]
  },
  {
   "cell_type": "markdown",
   "metadata": {},
   "source": [
    "# GPA"
   ]
  },
  {
   "cell_type": "code",
   "execution_count": 7,
   "metadata": {},
   "outputs": [
    {
     "name": "stdout",
     "output_type": "stream",
     "text": [
      "[ nan 2.83 3.02 3.14 3.08 3.19 3.13 3.21 2.85 2.79 3.27 3.12 3.33 3.24\n",
      " 3.71 3.03 2.82 2.89 3.65 3.25 3.56 3.59 3.1  3.16 2.73 3.09 3.5  2.76\n",
      " 2.78 2.97 3.26 3.15 3.3  2.98 3.31 3.52 2.77 2.69 2.9  2.96 3.06 2.86\n",
      " 2.81 3.58 2.62 3.23 2.93 3.54 2.91 3.01 3.32 3.   3.2  3.7  2.87 3.05\n",
      " 3.07 3.17 3.62 3.04 3.37 3.64 3.22 3.28 3.11 2.64 2.95 2.68 3.46 2.71\n",
      " 3.53 3.38 3.44 3.74 2.75 2.72 3.4  3.42 2.92 3.18 2.37 3.51 3.68 2.84\n",
      " 3.36 3.34 3.45 3.41 3.57 3.39 3.35 3.43 3.29 3.49 2.8  3.67 3.47 3.55\n",
      " 3.48 3.85 2.67 3.6  3.61 3.69 2.99 2.94 3.77 2.7  3.8  3.78 3.81 3.73\n",
      " 3.63 2.88 3.79 3.9  3.66 3.82 2.66 2.6  2.74 3.91 2.59 2.57 3.75 3.76\n",
      " 2.53 2.54 2.55 2.63 2.51 2.5  2.56 2.65 2.45 3.92 2.25 3.89 2.42 3.84\n",
      " 3.72 2.43 3.88 2.61 3.83 2.32 2.18 3.86 2.48 2.33 2.58 2.44 2.31 3.87\n",
      " 2.21 2.52]\n"
     ]
    }
   ],
   "source": [
    "print(df_merge_data['GPA'].unique())"
   ]
  },
  {
   "cell_type": "code",
   "execution_count": 8,
   "metadata": {},
   "outputs": [
    {
     "name": "stdout",
     "output_type": "stream",
     "text": [
      "[3.16 2.83 3.02 3.14 3.08 3.19 3.13 3.21 2.85 2.79 3.27 3.12 3.33 3.24\n",
      " 3.71 3.03 2.82 2.89 3.65 3.25 3.56 3.59 3.1  2.73 3.09 3.5  2.76 2.78\n",
      " 2.97 3.26 3.15 3.3  2.98 3.31 3.52 2.77 2.69 2.9  2.96 3.06 2.86 2.81\n",
      " 3.58 2.62 3.23 2.93 3.54 2.91 3.01 3.32 3.   3.2  3.7  2.87 3.05 3.07\n",
      " 3.17 3.62 3.04 3.37 3.64 3.22 3.28 3.11 2.64 2.95 2.68 3.46 2.71 3.53\n",
      " 3.38 3.44 3.74 2.75 2.72 3.4  3.42 2.92 3.18 2.37 3.51 3.68 2.84 3.36\n",
      " 3.34 3.45 3.41 3.57 3.39 3.35 3.43 3.29 3.49 2.8  3.67 3.47 3.55 3.48\n",
      " 3.85 2.67 3.6  3.61 3.69 2.99 2.94 3.77 2.7  3.8  3.78 3.81 3.73 3.63\n",
      " 2.88 3.79 3.9  3.66 3.82 2.66 2.6  2.74 3.91 2.59 2.57 3.75 3.76 2.53\n",
      " 2.54 2.55 2.63 2.51 2.5  2.56 2.65 2.45 3.92 2.25 3.89 2.42 3.84 3.72\n",
      " 2.43 3.88 2.61 3.83 2.32 2.18 3.86 2.48 2.33 2.58 2.44 2.31 3.87 2.21\n",
      " 2.52]\n"
     ]
    }
   ],
   "source": [
    "# fill missing values with mean column values\n",
    "df_merge_data['GPA'].fillna(np.round(df_merge_data['GPA'].mean(),2), inplace=True)\n",
    "print(df_merge_data['GPA'].unique())"
   ]
  },
  {
   "cell_type": "markdown",
   "metadata": {},
   "source": [
    "# Achievement_above_100%_during3quartal"
   ]
  },
  {
   "cell_type": "code",
   "execution_count": 9,
   "metadata": {},
   "outputs": [
    {
     "name": "stdout",
     "output_type": "stream",
     "text": [
      "4736\n"
     ]
    }
   ],
   "source": [
    "# count the number of NaN values in each column\n",
    "print(df_merge_data['Achievement_above_100%_during3quartal'].isna().sum())"
   ]
  },
  {
   "cell_type": "code",
   "execution_count": 10,
   "metadata": {},
   "outputs": [
    {
     "name": "stdout",
     "output_type": "stream",
     "text": [
      "[ 0.  1.  2. nan]\n"
     ]
    }
   ],
   "source": [
    "print(df_merge_data['Achievement_above_100%_during3quartal'].unique())"
   ]
  },
  {
   "cell_type": "code",
   "execution_count": 11,
   "metadata": {},
   "outputs": [
    {
     "name": "stdout",
     "output_type": "stream",
     "text": [
      "[0. 1. 2.]\n"
     ]
    }
   ],
   "source": [
    "# fill missing values with median column values\n",
    "df_merge_data['Achievement_above_100%_during3quartal'].fillna(df_merge_data['Achievement_above_100%_during3quartal'].median(), inplace=True)\n",
    "print(df_merge_data['Achievement_above_100%_during3quartal'].unique())"
   ]
  },
  {
   "cell_type": "markdown",
   "metadata": {},
   "source": [
    "# assign_of_otherposition"
   ]
  },
  {
   "cell_type": "code",
   "execution_count": 12,
   "metadata": {},
   "outputs": [
    {
     "name": "stdout",
     "output_type": "stream",
     "text": [
      "[ 0.  1.  2. nan]\n"
     ]
    }
   ],
   "source": [
    "print(df_merge_data['assign_of_otherposition'].unique())"
   ]
  },
  {
   "cell_type": "code",
   "execution_count": 13,
   "metadata": {},
   "outputs": [
    {
     "name": "stdout",
     "output_type": "stream",
     "text": [
      "[0. 1. 2.]\n"
     ]
    }
   ],
   "source": [
    "# fill missing values with median column values\n",
    "df_merge_data['assign_of_otherposition'].fillna(df_merge_data['assign_of_otherposition'].median(), inplace=True)\n",
    "print(df_merge_data['assign_of_otherposition'].unique())"
   ]
  },
  {
   "cell_type": "markdown",
   "metadata": {},
   "source": [
    "# job_duration_in_current_person_level"
   ]
  },
  {
   "cell_type": "code",
   "execution_count": 14,
   "metadata": {},
   "outputs": [
    {
     "name": "stdout",
     "output_type": "stream",
     "text": [
      "[1.         1.11803399 1.22474487 1.25698051        nan 1.38564065\n",
      " 1.15325626 1.47309199 1.08166538 1.2922848  1.35277493 1.5\n",
      " 1.32287566 1.19163753 1.41421356 1.58113883 1.55563492 1.60623784\n",
      " 1.44222051 1.03923048 1.52643375]\n"
     ]
    }
   ],
   "source": [
    "print(df_merge_data['job_duration_in_current_person_level'].unique())"
   ]
  },
  {
   "cell_type": "code",
   "execution_count": 15,
   "metadata": {},
   "outputs": [
    {
     "name": "stdout",
     "output_type": "stream",
     "text": [
      "[1.         1.11803399 1.22474487 1.25698051 1.31       1.38564065\n",
      " 1.15325626 1.47309199 1.08166538 1.2922848  1.35277493 1.5\n",
      " 1.32287566 1.19163753 1.41421356 1.58113883 1.55563492 1.60623784\n",
      " 1.44222051 1.03923048 1.52643375]\n"
     ]
    }
   ],
   "source": [
    "# fill missing values with mean column values\n",
    "df_merge_data['job_duration_in_current_person_level'].fillna(np.round(df_merge_data['job_duration_in_current_person_level'].mean(),2), inplace=True)\n",
    "print(df_merge_data['job_duration_in_current_person_level'].unique())"
   ]
  },
  {
   "cell_type": "markdown",
   "metadata": {},
   "source": [
    "# sick_leaves"
   ]
  },
  {
   "cell_type": "code",
   "execution_count": 16,
   "metadata": {},
   "outputs": [
    {
     "name": "stdout",
     "output_type": "stream",
     "text": [
      "[nan  0.  1.  2.]\n"
     ]
    }
   ],
   "source": [
    "print(df_merge_data['sick_leaves'].unique())"
   ]
  },
  {
   "cell_type": "code",
   "execution_count": 17,
   "metadata": {},
   "outputs": [
    {
     "name": "stdout",
     "output_type": "stream",
     "text": [
      "[0. 1. 2.]\n"
     ]
    }
   ],
   "source": [
    "# fill missing values with median column values\n",
    "df_merge_data['sick_leaves'].fillna(df_merge_data['sick_leaves'].median(), inplace=True)\n",
    "print(df_merge_data['sick_leaves'].unique())"
   ]
  },
  {
   "cell_type": "markdown",
   "metadata": {},
   "source": [
    "# job_duration_in_current_job_level"
   ]
  },
  {
   "cell_type": "code",
   "execution_count": 18,
   "metadata": {},
   "outputs": [
    {
     "name": "stdout",
     "output_type": "stream",
     "text": [
      "[       nan 1.11803399 1.22474487 1.25698051 1.38564065 1.15325626\n",
      " 1.47309199 1.08166538 1.58113883 1.2922848  1.35277493 1.5\n",
      " 1.32287566 1.19163753 1.41421356 1.         1.44222051 1.55563492\n",
      " 1.60623784 1.03923048 1.52643375 1.68226038 1.63401346 1.6583124\n",
      " 0.9591663 ]\n"
     ]
    }
   ],
   "source": [
    "print(df_merge_data['job_duration_in_current_job_level'].unique())"
   ]
  },
  {
   "cell_type": "code",
   "execution_count": 19,
   "metadata": {},
   "outputs": [
    {
     "name": "stdout",
     "output_type": "stream",
     "text": [
      "[1.31       1.11803399 1.22474487 1.25698051 1.38564065 1.15325626\n",
      " 1.47309199 1.08166538 1.58113883 1.2922848  1.35277493 1.5\n",
      " 1.32287566 1.19163753 1.41421356 1.         1.44222051 1.55563492\n",
      " 1.60623784 1.03923048 1.52643375 1.68226038 1.63401346 1.6583124\n",
      " 0.9591663 ]\n"
     ]
    }
   ],
   "source": [
    "# fill missing values with mean column values\n",
    "df_merge_data['job_duration_in_current_job_level'].fillna(np.round(df_merge_data['job_duration_in_current_job_level'].mean(),2), inplace=True)\n",
    "print(df_merge_data['job_duration_in_current_job_level'].unique())"
   ]
  },
  {
   "cell_type": "markdown",
   "metadata": {},
   "source": [
    "# job_duration_from_training"
   ]
  },
  {
   "cell_type": "code",
   "execution_count": 21,
   "metadata": {},
   "outputs": [
    {
     "name": "stdout",
     "output_type": "stream",
     "text": [
      "[nan  3.  2.  5.  6.  4.  7.  8. 10.]\n"
     ]
    }
   ],
   "source": [
    "print(df_merge_data['job_duration_from_training'].unique())"
   ]
  },
  {
   "cell_type": "code",
   "execution_count": 22,
   "metadata": {},
   "outputs": [
    {
     "name": "stdout",
     "output_type": "stream",
     "text": [
      "[ 5.  3.  2.  6.  4.  7.  8. 10.]\n"
     ]
    }
   ],
   "source": [
    "# fill missing values with median column values\n",
    "df_merge_data['job_duration_from_training'].fillna(df_merge_data['job_duration_from_training'].median(), inplace=True)\n",
    "print(df_merge_data['job_duration_from_training'].unique())"
   ]
  },
  {
   "cell_type": "markdown",
   "metadata": {},
   "source": [
    "# year_graduated"
   ]
  },
  {
   "cell_type": "code",
   "execution_count": 23,
   "metadata": {},
   "outputs": [
    {
     "name": "stdout",
     "output_type": "stream",
     "text": [
      "[34 12 33 14 17 36  8 28 15 37 32 35 10 11 27 30 29  3  7 13 20 19  4  9\n",
      " 16  6 25 18 26 31 21 23 22  5 24  2 38 39  1]\n"
     ]
    }
   ],
   "source": [
    "print(df_merge_data['year_graduated'].unique())"
   ]
  },
  {
   "cell_type": "code",
   "execution_count": 24,
   "metadata": {},
   "outputs": [
    {
     "name": "stdout",
     "output_type": "stream",
     "text": [
      "[34 12 33 14 17 36  8 28 15 37 32 35 10 11 27 30 29  3  7 13 20 19  4  9\n",
      " 16  6 25 18 26 31 21 23 22  5 24  2 38 39  1]\n"
     ]
    }
   ],
   "source": [
    "# fill missing values with median column values\n",
    "df_merge_data['year_graduated'].fillna(df_merge_data['year_graduated'].median(), inplace=True)\n",
    "print(df_merge_data['year_graduated'].unique())"
   ]
  },
  {
   "cell_type": "markdown",
   "metadata": {},
   "source": [
    "# branch_rotation"
   ]
  },
  {
   "cell_type": "code",
   "execution_count": 25,
   "metadata": {},
   "outputs": [
    {
     "name": "stdout",
     "output_type": "stream",
     "text": [
      "[nan  2.  5.  1.  4.  7.  6.  3.]\n"
     ]
    }
   ],
   "source": [
    "print(df_merge_data['branch_rotation'].unique())"
   ]
  },
  {
   "cell_type": "code",
   "execution_count": 26,
   "metadata": {},
   "outputs": [
    {
     "name": "stdout",
     "output_type": "stream",
     "text": [
      "[3. 2. 5. 1. 4. 7. 6.]\n"
     ]
    }
   ],
   "source": [
    "# fill missing values with median column values\n",
    "df_merge_data['branch_rotation'].fillna(df_merge_data['branch_rotation'].median(), inplace=True)\n",
    "print(df_merge_data['branch_rotation'].unique())"
   ]
  },
  {
   "cell_type": "markdown",
   "metadata": {},
   "source": [
    "# job_rotation"
   ]
  },
  {
   "cell_type": "code",
   "execution_count": 29,
   "metadata": {},
   "outputs": [
    {
     "name": "stdout",
     "output_type": "stream",
     "text": [
      "[ 6.  2.  7.  4.  3. nan  5.  1.]\n"
     ]
    }
   ],
   "source": [
    "print(df_merge_data['job_rotation'].unique())"
   ]
  },
  {
   "cell_type": "code",
   "execution_count": 30,
   "metadata": {},
   "outputs": [
    {
     "name": "stdout",
     "output_type": "stream",
     "text": [
      "[6. 2. 7. 4. 3. 5. 1.]\n"
     ]
    }
   ],
   "source": [
    "# fill missing values with median column values\n",
    "df_merge_data['job_rotation'].fillna(df_merge_data['job_rotation'].median(), inplace=True)\n",
    "print(df_merge_data['job_rotation'].unique())"
   ]
  },
  {
   "cell_type": "markdown",
   "metadata": {},
   "source": [
    "# job_duration_in_current_branch"
   ]
  },
  {
   "cell_type": "code",
   "execution_count": 37,
   "metadata": {},
   "outputs": [
    {
     "name": "stdout",
     "output_type": "stream",
     "text": [
      "[1.38564065 0.41231056 1.22474487 1.15325626 1.11803399 1.5\n",
      " 1.19163753 0.91104336 0.64807407 0.70710678 1.         1.82482876\n",
      " 1.41421356 1.78044938 1.55563492 0.9591663  0.8660254  1.35277493\n",
      " 1.8493242  0.         1.32287566 1.52643375 1.58113883 1.08166538\n",
      " 0.5        0.81853528 1.60623784 1.87082869 1.47309199 1.25698051\n",
      " 0.57445626 1.68226038 1.03923048 1.91572441 0.28284271 1.44222051\n",
      " 1.2922848         nan 1.75499288 1.80277564 1.63401346 1.6583124\n",
      " 2.         1.93649167 1.70880075 0.76157731 1.89208879 1.73205081\n",
      " 1.95703858 1.97989899]\n"
     ]
    }
   ],
   "source": [
    "print(df_merge_data['job_duration_in_current_branch'].unique())"
   ]
  },
  {
   "cell_type": "code",
   "execution_count": 38,
   "metadata": {},
   "outputs": [
    {
     "name": "stdout",
     "output_type": "stream",
     "text": [
      "[1.38564065 0.41231056 1.22474487 1.15325626 1.11803399 1.5\n",
      " 1.19163753 0.91104336 0.64807407 0.70710678 1.         1.82482876\n",
      " 1.41421356 1.78044938 1.55563492 0.9591663  0.8660254  1.35277493\n",
      " 1.8493242  0.         1.32287566 1.52643375 1.58113883 1.08166538\n",
      " 0.5        0.81853528 1.60623784 1.87082869 1.47309199 1.25698051\n",
      " 0.57445626 1.68226038 1.03923048 1.91572441 0.28284271 1.44222051\n",
      " 1.2922848  1.03       1.75499288 1.80277564 1.63401346 1.6583124\n",
      " 2.         1.93649167 1.70880075 0.76157731 1.89208879 1.73205081\n",
      " 1.95703858 1.97989899]\n"
     ]
    }
   ],
   "source": [
    "# fill missing values with mean column values\n",
    "df_merge_data['job_duration_in_current_branch'].fillna(np.round(df_merge_data['job_duration_in_current_branch'].mean(),2), inplace=True)\n",
    "print(df_merge_data['job_duration_in_current_branch'].unique())"
   ]
  },
  {
   "cell_type": "markdown",
   "metadata": {},
   "source": [
    "# annual leave"
   ]
  },
  {
   "cell_type": "code",
   "execution_count": 39,
   "metadata": {},
   "outputs": [
    {
     "name": "stdout",
     "output_type": "stream",
     "text": [
      "[ 4.  3.  2.  0.  7.  5.  6.  1.  8. nan  9.]\n"
     ]
    }
   ],
   "source": [
    "print(df_merge_data['annual leave'].unique())"
   ]
  },
  {
   "cell_type": "code",
   "execution_count": 40,
   "metadata": {},
   "outputs": [
    {
     "name": "stdout",
     "output_type": "stream",
     "text": [
      "[4. 3. 2. 0. 7. 5. 6. 1. 8. 9.]\n"
     ]
    }
   ],
   "source": [
    "# fill missing values with median column values\n",
    "df_merge_data['annual leave'].fillna(df_merge_data['annual leave'].median(), inplace=True)\n",
    "print(df_merge_data['annual leave'].unique())"
   ]
  },
  {
   "cell_type": "markdown",
   "metadata": {},
   "source": [
    "# number_of_dependences"
   ]
  },
  {
   "cell_type": "code",
   "execution_count": 43,
   "metadata": {},
   "outputs": [
    {
     "name": "stdout",
     "output_type": "stream",
     "text": [
      "[ 2.  0.  3.  1.  4.  5. nan]\n"
     ]
    }
   ],
   "source": [
    "print(df_merge_data['number_of_dependences'].unique())"
   ]
  },
  {
   "cell_type": "code",
   "execution_count": 44,
   "metadata": {},
   "outputs": [
    {
     "name": "stdout",
     "output_type": "stream",
     "text": [
      "[2. 0. 3. 1. 4. 5.]\n"
     ]
    }
   ],
   "source": [
    "# fill missing values with median column values\n",
    "df_merge_data['number_of_dependences'].fillna(df_merge_data['number_of_dependences'].median(), inplace=True)\n",
    "print(df_merge_data['number_of_dependences'].unique())"
   ]
  },
  {
   "cell_type": "markdown",
   "metadata": {},
   "source": [
    "# age"
   ]
  },
  {
   "cell_type": "code",
   "execution_count": 45,
   "metadata": {},
   "outputs": [
    {
     "name": "stdout",
     "output_type": "stream",
     "text": [
      "[54 30 32 35 55 47 33 53 56 52 28 45 48 58 51 50 31 34 42 36 41 29 37 27\n",
      " 38 40 39 57 49 44 46 43 25 26 24]\n"
     ]
    }
   ],
   "source": [
    "print(df_merge_data['age'].unique())"
   ]
  },
  {
   "cell_type": "code",
   "execution_count": 46,
   "metadata": {},
   "outputs": [
    {
     "name": "stdout",
     "output_type": "stream",
     "text": [
      "[54 30 32 35 55 47 33 53 56 52 28 45 48 58 51 50 31 34 42 36 41 29 37 27\n",
      " 38 40 39 57 49 44 46 43 25 26 24]\n"
     ]
    }
   ],
   "source": [
    "# fill missing values with median column values\n",
    "df_merge_data['age'].fillna(df_merge_data['age'].median(), inplace=True)\n",
    "print(df_merge_data['age'].unique())"
   ]
  },
  {
   "cell_type": "code",
   "execution_count": 48,
   "metadata": {},
   "outputs": [],
   "source": [
    "df_train_new = df_merge_data.iloc[:len(df_train),:] \n",
    "df_test_new = df_merge_data.iloc[len(df_train):,:]"
   ]
  },
  {
   "cell_type": "code",
   "execution_count": 49,
   "metadata": {},
   "outputs": [
    {
     "name": "stdout",
     "output_type": "stream",
     "text": [
      "(19337, 22)\n",
      "(6000, 22)\n"
     ]
    }
   ],
   "source": [
    "print(df_train_new.shape)\n",
    "print(df_test_new.shape)"
   ]
  },
  {
   "cell_type": "code",
   "execution_count": 50,
   "metadata": {},
   "outputs": [],
   "source": [
    "df_train_new.to_csv(\"5.complete_train.csv\", index=False)\n",
    "df_test_new.to_csv(\"5.complete_test.csv\", index=False)"
   ]
  }
 ],
 "metadata": {
  "kernelspec": {
   "display_name": "Python 3",
   "language": "python",
   "name": "python3"
  },
  "language_info": {
   "codemirror_mode": {
    "name": "ipython",
    "version": 3
   },
   "file_extension": ".py",
   "mimetype": "text/x-python",
   "name": "python",
   "nbconvert_exporter": "python",
   "pygments_lexer": "ipython3",
   "version": "3.7.9"
  }
 },
 "nbformat": 4,
 "nbformat_minor": 4
}
