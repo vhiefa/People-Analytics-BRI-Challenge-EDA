{
 "cells": [
  {
   "cell_type": "code",
   "execution_count": 1,
   "metadata": {},
   "outputs": [],
   "source": [
    "import pandas as pd \n",
    "import numpy as np\n",
    "from numpy import nan\n",
    "from sklearn.preprocessing import StandardScaler\n",
    "from sklearn.decomposition import PCA"
   ]
  },
  {
   "cell_type": "code",
   "execution_count": 2,
   "metadata": {},
   "outputs": [],
   "source": [
    "df_train = pd.read_csv(\"7.selectedfeature_train.csv\") \n",
    "df_test = pd.read_csv(\"7.selectedfeature_test.csv\") "
   ]
  },
  {
   "cell_type": "code",
   "execution_count": 3,
   "metadata": {},
   "outputs": [
    {
     "name": "stdout",
     "output_type": "stream",
     "text": [
      "(19337, 21)\n",
      "(6000, 21)\n"
     ]
    }
   ],
   "source": [
    "print(df_train.shape)\n",
    "print(df_test.shape)"
   ]
  },
  {
   "cell_type": "code",
   "execution_count": 4,
   "metadata": {},
   "outputs": [
    {
     "name": "stdout",
     "output_type": "stream",
     "text": [
      "(25337, 21)\n"
     ]
    }
   ],
   "source": [
    "df_merge_data = pd.concat([df_train,df_test])\n",
    "print(df_merge_data.shape)"
   ]
  },
  {
   "cell_type": "code",
   "execution_count": 5,
   "metadata": {},
   "outputs": [],
   "source": [
    "label = df_merge_data[\"Best Performance\"] #label\n",
    "df_merge_data.drop(['Best Performance'], inplace=True, axis=1)"
   ]
  },
  {
   "cell_type": "code",
   "execution_count": 6,
   "metadata": {},
   "outputs": [
    {
     "data": {
      "text/plain": [
       "PCA(n_components=0.9)"
      ]
     },
     "execution_count": 6,
     "metadata": {},
     "output_type": "execute_result"
    }
   ],
   "source": [
    "pca = PCA(0.9)\n",
    "pca.fit(df_merge_data)"
   ]
  },
  {
   "cell_type": "code",
   "execution_count": 7,
   "metadata": {},
   "outputs": [
    {
     "data": {
      "text/plain": [
       "12"
      ]
     },
     "execution_count": 7,
     "metadata": {},
     "output_type": "execute_result"
    }
   ],
   "source": [
    "PCA(copy=True, iterated_power='auto', n_components=0.9, random_state=None, svd_solver='auto', tol=0.0, whiten=False)\n",
    "pca.n_components_"
   ]
  },
  {
   "cell_type": "code",
   "execution_count": 8,
   "metadata": {},
   "outputs": [
    {
     "data": {
      "text/plain": [
       "(25337, 12)"
      ]
     },
     "execution_count": 8,
     "metadata": {},
     "output_type": "execute_result"
    }
   ],
   "source": [
    "train_pca = pca.transform(df_merge_data)\n",
    "#karena tadi udah fit, kalo belum fit bisa gini :\n",
    "#train_pca = pca.fit_transform(data)\n",
    "train_pca.shape"
   ]
  },
  {
   "cell_type": "code",
   "execution_count": 10,
   "metadata": {},
   "outputs": [],
   "source": [
    "feat_cols = ['feature'+str(i) for i in range(train_pca.shape[1])]\n",
    "pca_data = pd.DataFrame(train_pca,columns=feat_cols)"
   ]
  },
  {
   "cell_type": "code",
   "execution_count": 13,
   "metadata": {},
   "outputs": [
    {
     "data": {
      "text/html": [
       "<div>\n",
       "<style scoped>\n",
       "    .dataframe tbody tr th:only-of-type {\n",
       "        vertical-align: middle;\n",
       "    }\n",
       "\n",
       "    .dataframe tbody tr th {\n",
       "        vertical-align: top;\n",
       "    }\n",
       "\n",
       "    .dataframe thead th {\n",
       "        text-align: right;\n",
       "    }\n",
       "</style>\n",
       "<table border=\"1\" class=\"dataframe\">\n",
       "  <thead>\n",
       "    <tr style=\"text-align: right;\">\n",
       "      <th></th>\n",
       "      <th>feature0</th>\n",
       "      <th>feature1</th>\n",
       "      <th>feature2</th>\n",
       "      <th>feature3</th>\n",
       "      <th>feature4</th>\n",
       "      <th>feature5</th>\n",
       "      <th>feature6</th>\n",
       "      <th>feature7</th>\n",
       "      <th>feature8</th>\n",
       "      <th>feature9</th>\n",
       "      <th>feature10</th>\n",
       "      <th>feature11</th>\n",
       "    </tr>\n",
       "  </thead>\n",
       "  <tbody>\n",
       "    <tr>\n",
       "      <th>0</th>\n",
       "      <td>-0.283078</td>\n",
       "      <td>-0.385856</td>\n",
       "      <td>0.159527</td>\n",
       "      <td>-0.050568</td>\n",
       "      <td>-0.359149</td>\n",
       "      <td>0.004622</td>\n",
       "      <td>-0.175165</td>\n",
       "      <td>-0.048553</td>\n",
       "      <td>-0.614642</td>\n",
       "      <td>0.690673</td>\n",
       "      <td>0.320664</td>\n",
       "      <td>-0.155286</td>\n",
       "    </tr>\n",
       "    <tr>\n",
       "      <th>1</th>\n",
       "      <td>-0.134510</td>\n",
       "      <td>1.091633</td>\n",
       "      <td>0.074681</td>\n",
       "      <td>-0.078909</td>\n",
       "      <td>-0.116667</td>\n",
       "      <td>0.075112</td>\n",
       "      <td>-0.001720</td>\n",
       "      <td>0.032473</td>\n",
       "      <td>-0.349044</td>\n",
       "      <td>-0.127974</td>\n",
       "      <td>0.124297</td>\n",
       "      <td>-0.082594</td>\n",
       "    </tr>\n",
       "    <tr>\n",
       "      <th>2</th>\n",
       "      <td>-0.294329</td>\n",
       "      <td>-0.513568</td>\n",
       "      <td>0.262926</td>\n",
       "      <td>-0.015424</td>\n",
       "      <td>-0.513328</td>\n",
       "      <td>0.227952</td>\n",
       "      <td>-0.135726</td>\n",
       "      <td>-0.011468</td>\n",
       "      <td>-0.668084</td>\n",
       "      <td>0.582668</td>\n",
       "      <td>0.227852</td>\n",
       "      <td>-0.075941</td>\n",
       "    </tr>\n",
       "    <tr>\n",
       "      <th>3</th>\n",
       "      <td>0.865742</td>\n",
       "      <td>0.938479</td>\n",
       "      <td>-0.033557</td>\n",
       "      <td>0.316541</td>\n",
       "      <td>-0.152453</td>\n",
       "      <td>0.060046</td>\n",
       "      <td>0.046960</td>\n",
       "      <td>-0.136436</td>\n",
       "      <td>0.048503</td>\n",
       "      <td>0.054099</td>\n",
       "      <td>0.163552</td>\n",
       "      <td>-0.035606</td>\n",
       "    </tr>\n",
       "    <tr>\n",
       "      <th>4</th>\n",
       "      <td>-0.240309</td>\n",
       "      <td>0.151434</td>\n",
       "      <td>-0.221633</td>\n",
       "      <td>-0.282339</td>\n",
       "      <td>0.392581</td>\n",
       "      <td>0.388936</td>\n",
       "      <td>-0.048941</td>\n",
       "      <td>-0.272464</td>\n",
       "      <td>-0.026313</td>\n",
       "      <td>0.034491</td>\n",
       "      <td>-0.000558</td>\n",
       "      <td>-0.186889</td>\n",
       "    </tr>\n",
       "  </tbody>\n",
       "</table>\n",
       "</div>"
      ],
      "text/plain": [
       "   feature0  feature1  feature2  feature3  feature4  feature5  feature6  \\\n",
       "0 -0.283078 -0.385856  0.159527 -0.050568 -0.359149  0.004622 -0.175165   \n",
       "1 -0.134510  1.091633  0.074681 -0.078909 -0.116667  0.075112 -0.001720   \n",
       "2 -0.294329 -0.513568  0.262926 -0.015424 -0.513328  0.227952 -0.135726   \n",
       "3  0.865742  0.938479 -0.033557  0.316541 -0.152453  0.060046  0.046960   \n",
       "4 -0.240309  0.151434 -0.221633 -0.282339  0.392581  0.388936 -0.048941   \n",
       "\n",
       "   feature7  feature8  feature9  feature10  feature11  \n",
       "0 -0.048553 -0.614642  0.690673   0.320664  -0.155286  \n",
       "1  0.032473 -0.349044 -0.127974   0.124297  -0.082594  \n",
       "2 -0.011468 -0.668084  0.582668   0.227852  -0.075941  \n",
       "3 -0.136436  0.048503  0.054099   0.163552  -0.035606  \n",
       "4 -0.272464 -0.026313  0.034491  -0.000558  -0.186889  "
      ]
     },
     "execution_count": 13,
     "metadata": {},
     "output_type": "execute_result"
    }
   ],
   "source": [
    "pca_data.head()"
   ]
  },
  {
   "cell_type": "code",
   "execution_count": 14,
   "metadata": {},
   "outputs": [
    {
     "data": {
      "text/plain": [
       "0    1.0\n",
       "1    1.0\n",
       "2    1.0\n",
       "3    1.0\n",
       "4    1.0\n",
       "Name: Best Performance, dtype: float64"
      ]
     },
     "execution_count": 14,
     "metadata": {},
     "output_type": "execute_result"
    }
   ],
   "source": [
    "label.head()"
   ]
  },
  {
   "cell_type": "code",
   "execution_count": 15,
   "metadata": {},
   "outputs": [
    {
     "name": "stdout",
     "output_type": "stream",
     "text": [
      "(25337, 12)\n",
      "(25337,)\n"
     ]
    }
   ],
   "source": [
    "print(pca_data.shape)\n",
    "print(label.shape)"
   ]
  },
  {
   "cell_type": "code",
   "execution_count": 16,
   "metadata": {},
   "outputs": [
    {
     "data": {
      "text/plain": [
       "(25337, 13)"
      ]
     },
     "execution_count": 16,
     "metadata": {},
     "output_type": "execute_result"
    }
   ],
   "source": [
    "pca_data.reset_index(drop=True, inplace=True)\n",
    "label.reset_index(drop=True, inplace=True)\n",
    "result = pd.concat([pca_data, label], axis=1)\n",
    "result.shape"
   ]
  },
  {
   "cell_type": "code",
   "execution_count": 17,
   "metadata": {},
   "outputs": [
    {
     "data": {
      "text/html": [
       "<div>\n",
       "<style scoped>\n",
       "    .dataframe tbody tr th:only-of-type {\n",
       "        vertical-align: middle;\n",
       "    }\n",
       "\n",
       "    .dataframe tbody tr th {\n",
       "        vertical-align: top;\n",
       "    }\n",
       "\n",
       "    .dataframe thead th {\n",
       "        text-align: right;\n",
       "    }\n",
       "</style>\n",
       "<table border=\"1\" class=\"dataframe\">\n",
       "  <thead>\n",
       "    <tr style=\"text-align: right;\">\n",
       "      <th></th>\n",
       "      <th>feature0</th>\n",
       "      <th>feature1</th>\n",
       "      <th>feature2</th>\n",
       "      <th>feature3</th>\n",
       "      <th>feature4</th>\n",
       "      <th>feature5</th>\n",
       "      <th>feature6</th>\n",
       "      <th>feature7</th>\n",
       "      <th>feature8</th>\n",
       "      <th>feature9</th>\n",
       "      <th>feature10</th>\n",
       "      <th>feature11</th>\n",
       "      <th>Best Performance</th>\n",
       "    </tr>\n",
       "  </thead>\n",
       "  <tbody>\n",
       "    <tr>\n",
       "      <th>0</th>\n",
       "      <td>-0.283078</td>\n",
       "      <td>-0.385856</td>\n",
       "      <td>0.159527</td>\n",
       "      <td>-0.050568</td>\n",
       "      <td>-0.359149</td>\n",
       "      <td>0.004622</td>\n",
       "      <td>-0.175165</td>\n",
       "      <td>-0.048553</td>\n",
       "      <td>-0.614642</td>\n",
       "      <td>0.690673</td>\n",
       "      <td>0.320664</td>\n",
       "      <td>-0.155286</td>\n",
       "      <td>1.0</td>\n",
       "    </tr>\n",
       "    <tr>\n",
       "      <th>1</th>\n",
       "      <td>-0.134510</td>\n",
       "      <td>1.091633</td>\n",
       "      <td>0.074681</td>\n",
       "      <td>-0.078909</td>\n",
       "      <td>-0.116667</td>\n",
       "      <td>0.075112</td>\n",
       "      <td>-0.001720</td>\n",
       "      <td>0.032473</td>\n",
       "      <td>-0.349044</td>\n",
       "      <td>-0.127974</td>\n",
       "      <td>0.124297</td>\n",
       "      <td>-0.082594</td>\n",
       "      <td>1.0</td>\n",
       "    </tr>\n",
       "    <tr>\n",
       "      <th>2</th>\n",
       "      <td>-0.294329</td>\n",
       "      <td>-0.513568</td>\n",
       "      <td>0.262926</td>\n",
       "      <td>-0.015424</td>\n",
       "      <td>-0.513328</td>\n",
       "      <td>0.227952</td>\n",
       "      <td>-0.135726</td>\n",
       "      <td>-0.011468</td>\n",
       "      <td>-0.668084</td>\n",
       "      <td>0.582668</td>\n",
       "      <td>0.227852</td>\n",
       "      <td>-0.075941</td>\n",
       "      <td>1.0</td>\n",
       "    </tr>\n",
       "    <tr>\n",
       "      <th>3</th>\n",
       "      <td>0.865742</td>\n",
       "      <td>0.938479</td>\n",
       "      <td>-0.033557</td>\n",
       "      <td>0.316541</td>\n",
       "      <td>-0.152453</td>\n",
       "      <td>0.060046</td>\n",
       "      <td>0.046960</td>\n",
       "      <td>-0.136436</td>\n",
       "      <td>0.048503</td>\n",
       "      <td>0.054099</td>\n",
       "      <td>0.163552</td>\n",
       "      <td>-0.035606</td>\n",
       "      <td>1.0</td>\n",
       "    </tr>\n",
       "    <tr>\n",
       "      <th>4</th>\n",
       "      <td>-0.240309</td>\n",
       "      <td>0.151434</td>\n",
       "      <td>-0.221633</td>\n",
       "      <td>-0.282339</td>\n",
       "      <td>0.392581</td>\n",
       "      <td>0.388936</td>\n",
       "      <td>-0.048941</td>\n",
       "      <td>-0.272464</td>\n",
       "      <td>-0.026313</td>\n",
       "      <td>0.034491</td>\n",
       "      <td>-0.000558</td>\n",
       "      <td>-0.186889</td>\n",
       "      <td>1.0</td>\n",
       "    </tr>\n",
       "  </tbody>\n",
       "</table>\n",
       "</div>"
      ],
      "text/plain": [
       "   feature0  feature1  feature2  feature3  feature4  feature5  feature6  \\\n",
       "0 -0.283078 -0.385856  0.159527 -0.050568 -0.359149  0.004622 -0.175165   \n",
       "1 -0.134510  1.091633  0.074681 -0.078909 -0.116667  0.075112 -0.001720   \n",
       "2 -0.294329 -0.513568  0.262926 -0.015424 -0.513328  0.227952 -0.135726   \n",
       "3  0.865742  0.938479 -0.033557  0.316541 -0.152453  0.060046  0.046960   \n",
       "4 -0.240309  0.151434 -0.221633 -0.282339  0.392581  0.388936 -0.048941   \n",
       "\n",
       "   feature7  feature8  feature9  feature10  feature11  Best Performance  \n",
       "0 -0.048553 -0.614642  0.690673   0.320664  -0.155286               1.0  \n",
       "1  0.032473 -0.349044 -0.127974   0.124297  -0.082594               1.0  \n",
       "2 -0.011468 -0.668084  0.582668   0.227852  -0.075941               1.0  \n",
       "3 -0.136436  0.048503  0.054099   0.163552  -0.035606               1.0  \n",
       "4 -0.272464 -0.026313  0.034491  -0.000558  -0.186889               1.0  "
      ]
     },
     "execution_count": 17,
     "metadata": {},
     "output_type": "execute_result"
    }
   ],
   "source": [
    "result.head()"
   ]
  },
  {
   "cell_type": "code",
   "execution_count": 18,
   "metadata": {},
   "outputs": [
    {
     "name": "stdout",
     "output_type": "stream",
     "text": [
      "(19337, 13)\n",
      "(6000, 13)\n"
     ]
    }
   ],
   "source": [
    "df_train_new = result.iloc[:len(df_train),:] \n",
    "df_test_new = result.iloc[len(df_train):,:]\n",
    "print(df_train_new.shape)\n",
    "print(df_test_new.shape)"
   ]
  },
  {
   "cell_type": "code",
   "execution_count": 19,
   "metadata": {},
   "outputs": [],
   "source": [
    "df_train_new.to_csv(\"9.pca_train.csv\", index=False)\n",
    "df_test_new.to_csv(\"9.pca_test.csv\", index=False)"
   ]
  },
  {
   "cell_type": "code",
   "execution_count": null,
   "metadata": {},
   "outputs": [],
   "source": []
  }
 ],
 "metadata": {
  "kernelspec": {
   "display_name": "Python 3",
   "language": "python",
   "name": "python3"
  },
  "language_info": {
   "codemirror_mode": {
    "name": "ipython",
    "version": 3
   },
   "file_extension": ".py",
   "mimetype": "text/x-python",
   "name": "python",
   "nbconvert_exporter": "python",
   "pygments_lexer": "ipython3",
   "version": "3.7.9"
  }
 },
 "nbformat": 4,
 "nbformat_minor": 4
}
